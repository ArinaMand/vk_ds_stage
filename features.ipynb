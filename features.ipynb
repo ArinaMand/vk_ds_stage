{
  "nbformat": 4,
  "nbformat_minor": 0,
  "metadata": {
    "colab": {
      "provenance": []
    },
    "kernelspec": {
      "name": "python3",
      "display_name": "Python 3"
    },
    "language_info": {
      "name": "python"
    }
  },
  "cells": [
    {
      "cell_type": "code",
      "execution_count": null,
      "metadata": {
        "id": "5WKmWk85E_oj"
      },
      "outputs": [],
      "source": [
        "import pandas as pd\n",
        "import matplotlib.pyplot as plt\n",
        "from sklearn.cluster import KMeans\n",
        "from sklearn.impute import SimpleImputer\n",
        "from sklearn.metrics import mean_absolute_error\n",
        "from sklearn.neighbors import KNeighborsClassifier\n",
        "from sklearn.tree import DecisionTreeRegressor\n",
        "import numpy as np"
      ]
    },
    {
      "cell_type": "code",
      "source": [
        "df = pd.read_csv('train.csv')\n",
        "test_df = pd.read_csv('test.csv')\n",
        "subsample_df = pd.read_csv('submission_sample.csv')\n",
        "features_df = pd.read_csv('features.csv')"
      ],
      "metadata": {
        "id": "L_Movtf5H0CP"
      },
      "execution_count": null,
      "outputs": []
    },
    {
      "cell_type": "markdown",
      "source": [
        "Для обучения модели возьмем train.csv и разделим его в соотношении ~2:1. Используется регрессия с деревом решений"
      ],
      "metadata": {
        "id": "04BpVJGr2bR8"
      }
    },
    {
      "cell_type": "code",
      "source": [
        "X, Y = df.loc[:2000, 'lat':'lon'], df.loc[:2000, 'score']"
      ],
      "metadata": {
        "id": "PieO48Xd6Ri0"
      },
      "execution_count": null,
      "outputs": []
    },
    {
      "cell_type": "code",
      "source": [
        "clf = DecisionTreeRegressor(random_state=200)\n",
        "clf.fit(X, Y)\n",
        "my_predict = clf.predict(df.loc[2000:, 'lat':'lon'])\n",
        "mean_absolute_error(df.loc[2000:, 'score'], my_predict)"
      ],
      "metadata": {
        "colab": {
          "base_uri": "https://localhost:8080/"
        },
        "id": "PZEU9jr78wPi",
        "outputId": "be3b50d6-f8fc-4fae-8b4c-7f1e155b49b1"
      },
      "execution_count": null,
      "outputs": [
        {
          "output_type": "execute_result",
          "data": {
            "text/plain": [
              "0.04635089892549479"
            ]
          },
          "metadata": {},
          "execution_count": 5
        }
      ]
    },
    {
      "cell_type": "markdown",
      "source": [
        "Данные из features.csv подвергнем кластеризации, т.е. разобъем их на классы. Полученнную модель используем для предсказания классов для данных из train.csv и запишем их как дополнительное поле фичей"
      ],
      "metadata": {
        "id": "9wltT74m2_vy"
      }
    },
    {
      "cell_type": "code",
      "source": [
        "imp = SimpleImputer(missing_values=np.nan, strategy='mean')\n",
        "new_feature_df = imp.fit_transform(features_df)\n",
        "\n",
        "kmeans = KMeans(n_clusters=5, random_state=5, n_init=\"auto\").fit(new_feature_df)\n",
        "data = features_df.loc[:, :'lon']\n",
        "imp = SimpleImputer(missing_values=np.nan, strategy='mean')\n",
        "new_df = imp.fit_transform(data)\n",
        "\n",
        "neigh = KNeighborsClassifier(n_neighbors=5)\n",
        "neigh.fit(new_df, kmeans.labels_)\n",
        "lbls_pred = neigh.predict(df.loc[:,'lat':'lon'])\n",
        "\n",
        "new_x = df.loc[:, 'lat':'lon'].assign(e =lbls_pred)\n",
        "Y = df.loc[:, 'score']\n",
        "\n",
        "clf = DecisionTreeRegressor(random_state=25)\n",
        "clf.fit(new_x[:2000], Y[:2000])\n",
        "my_predict = clf.predict(new_x.loc[2000:])\n",
        "\n",
        "mean_absolute_error(Y[2000:], my_predict)"
      ],
      "metadata": {
        "id": "qwdvoBbFc_ZC",
        "colab": {
          "base_uri": "https://localhost:8080/"
        },
        "outputId": "76598145-0c8d-4afc-c813-7d9a6d6d9a4c"
      },
      "execution_count": null,
      "outputs": [
        {
          "output_type": "stream",
          "name": "stderr",
          "text": [
            "/usr/local/lib/python3.10/dist-packages/sklearn/base.py:432: UserWarning: X has feature names, but KNeighborsClassifier was fitted without feature names\n",
            "  warnings.warn(\n"
          ]
        },
        {
          "output_type": "execute_result",
          "data": {
            "text/plain": [
              "0.044545008959340215"
            ]
          },
          "metadata": {},
          "execution_count": 58
        }
      ]
    },
    {
      "cell_type": "code",
      "source": [
        "delta = 0.04635089892549479 -0.044545008959340215\n",
        "print(\"Улучшение ошибки составило: \", delta)\n",
        "print(\"Улучшение ошибки составило (в процентах): \", round(delta/0.04635089892549479*100, 3), \"%\")"
      ],
      "metadata": {
        "colab": {
          "base_uri": "https://localhost:8080/"
        },
        "id": "4FdSS4Gd3uTR",
        "outputId": "8c1b4255-49a0-42ea-fae7-09774d65c617"
      },
      "execution_count": null,
      "outputs": [
        {
          "output_type": "stream",
          "name": "stdout",
          "text": [
            "Улучшение ошибки составило:  0.001805889966154578\n",
            "Улучшение ошибки составило (в процентах):  3.896 %\n"
          ]
        }
      ]
    },
    {
      "cell_type": "markdown",
      "source": [
        "***Далее идет код непосредственно предсказания score для test.csv***"
      ],
      "metadata": {
        "id": "C8hmz_bD9AwS"
      }
    },
    {
      "cell_type": "code",
      "execution_count": 83,
      "metadata": {
        "id": "3iRUchAN-QIZ"
      },
      "outputs": [],
      "source": [
        "import pandas as pd\n",
        "import matplotlib.pyplot as plt\n",
        "from sklearn.cluster import KMeans\n",
        "from sklearn.impute import SimpleImputer\n",
        "from sklearn.metrics import mean_absolute_error\n",
        "from sklearn.neighbors import KNeighborsClassifier\n",
        "from sklearn.tree import DecisionTreeRegressor\n",
        "import numpy as np"
      ]
    },
    {
      "cell_type": "code",
      "source": [
        "df = pd.read_csv('train.csv')\n",
        "test_df = pd.read_csv('test.csv')\n",
        "features_df = pd.read_csv('features.csv')"
      ],
      "metadata": {
        "id": "o4xWIGGu-UN0"
      },
      "execution_count": 84,
      "outputs": []
    },
    {
      "cell_type": "code",
      "source": [
        "imp = SimpleImputer(missing_values=np.nan, strategy='mean')\n",
        "new_feature_df = imp.fit_transform(features_df)\n",
        "\n",
        "kmeans = KMeans(n_clusters=5, random_state=5, n_init=\"auto\").fit(new_feature_df)\n",
        "\n",
        "data = features_df.loc[:, :'lon']\n",
        "imp = SimpleImputer(missing_values=np.nan, strategy='mean')\n",
        "new_df = imp.fit_transform(data)\n",
        "\n",
        "neigh = KNeighborsClassifier(n_neighbors=5)\n",
        "neigh.fit(new_df, kmeans.labels_)\n",
        "lbls_pred = neigh.predict(df.loc[:,'lat':'lon'])\n",
        "\n",
        "X = df.loc[:, 'lat':'lon'].assign(e =lbls_pred)\n",
        "Y = df.loc[:, 'score']\n",
        "\n",
        "clf = DecisionTreeRegressor(random_state=25)\n",
        "clf.fit(X, Y)\n",
        "\n",
        "\n",
        "lest_labels_predict = neigh.predict(test_df.loc[:,'lat':'lon'])\n",
        "test_x = test_df.loc[:, 'lat':'lon'].assign(e =lest_labels_predict)\n",
        "\n",
        "\n",
        "my_predict = clf.predict(test_x.loc[:, 'lat':])"
      ],
      "metadata": {
        "colab": {
          "base_uri": "https://localhost:8080/"
        },
        "id": "0KQ4y0GQ2Evy",
        "outputId": "6390ccdb-166f-4253-c09f-5e557eded898"
      },
      "execution_count": 85,
      "outputs": [
        {
          "output_type": "stream",
          "name": "stderr",
          "text": [
            "/usr/local/lib/python3.10/dist-packages/sklearn/base.py:432: UserWarning: X has feature names, but KNeighborsClassifier was fitted without feature names\n",
            "  warnings.warn(\n",
            "/usr/local/lib/python3.10/dist-packages/sklearn/base.py:432: UserWarning: X has feature names, but KNeighborsClassifier was fitted without feature names\n",
            "  warnings.warn(\n"
          ]
        }
      ]
    },
    {
      "cell_type": "code",
      "source": [
        "answer = test_df.drop('lat', axis = 1)\n",
        "answer = answer.drop('lon', axis = 1)\n",
        "answer['score'] = pd.Series(my_predict)\n",
        "answer.to_csv(\"submission.csv\")"
      ],
      "metadata": {
        "id": "JCodhuEz6y4Z"
      },
      "execution_count": 86,
      "outputs": []
    }
  ]
}